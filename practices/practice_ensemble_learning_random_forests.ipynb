{
 "cells": [
  {
   "cell_type": "markdown",
   "id": "cdd87f13",
   "metadata": {},
   "source": [
    "# (실습) 앙상블 학습과 랜덤 포레스트"
   ]
  },
  {
   "cell_type": "markdown",
   "id": "feac2d9e",
   "metadata": {},
   "source": [
    "**참고**\n",
    "\n",
    "[(구글코랩) 앙상블 학습과 랜덤 포레스트](https://colab.research.google.com/github/codingalzi/handson-ml3/blob/master/notebooks/code_ensemble_learning_random_forests.ipynb)\n",
    "의 소스코드를 먼저 공부하세요."
   ]
  },
  {
   "cell_type": "markdown",
   "id": "01a494fc",
   "metadata": {
    "id": "vrqhX20ses4E"
   },
   "source": [
    "**문제 1**"
   ]
  },
  {
   "cell_type": "markdown",
   "id": "556f5d9b",
   "metadata": {},
   "source": [
    "[(구글코랩) 앙상블 학습과 랜덤 포레스트](https://colab.research.google.com/github/codingalzi/handson-ml3/blob/master/notebooks/code_ensemble_learning_random_forests.ipynb) 의\n",
    "맨 아래에 있는 연습문제 8번-9번 내용을 정리하라."
   ]
  },
  {
   "cell_type": "markdown",
   "id": "66b15cd3",
   "metadata": {
    "id": "vrqhX20ses4E"
   },
   "source": [
    "**문제 2**"
   ]
  },
  {
   "cell_type": "markdown",
   "id": "2f1c643b",
   "metadata": {},
   "source": [
    "[Machine Learning 5 Random Forests](https://www.kaggle.com/code/fengdanye/machine-learning-5-random-forests/notebook)의 내용을 학습하고 깃허브 페이지에 블로그를 작성하라."
   ]
  },
  {
   "cell_type": "markdown",
   "id": "1f1442b0",
   "metadata": {
    "id": "vrqhX20ses4E"
   },
   "source": [
    "**문제 3**"
   ]
  },
  {
   "cell_type": "markdown",
   "id": "c073b5bc",
   "metadata": {},
   "source": [
    "[Machine Learning 6 Basic Ensemble Learning](https://www.kaggle.com/code/fengdanye/machine-learning-6-basic-ensemble-learning/notebook)의 내용을 학습하고 깃허브 페이지에 블로그를 작성하라."
   ]
  },
  {
   "cell_type": "markdown",
   "id": "0f2f5881",
   "metadata": {
    "id": "vrqhX20ses4E"
   },
   "source": [
    "**문제 4**"
   ]
  },
  {
   "cell_type": "markdown",
   "id": "1b008d3e",
   "metadata": {
    "slideshow": {
     "slide_type": "slide"
    }
   },
   "source": [
    "아래 모델들에 대해 알아보고 활용 예제를 소개하라.\n",
    "\n",
    "- XGBoost\n",
    "- CatBoost\n",
    "- LightGBM"
   ]
  },
  {
   "cell_type": "markdown",
   "id": "d84474fa",
   "metadata": {
    "id": "vrqhX20ses4E"
   },
   "source": [
    "**문제 5**"
   ]
  },
  {
   "cell_type": "markdown",
   "id": "9d72030c",
   "metadata": {
    "slideshow": {
     "slide_type": "slide"
    }
   },
   "source": [
    "[텐서플로우 결정 포레스트](https://colab.research.google.com/github/tensorflow/decision-forests/blob/main/documentation/tutorials/beginner_colab.ipynb) 내용을 학습하고\n",
    "깃허브 페이지에 블로그를 작성하라. "
   ]
  }
 ],
 "metadata": {
  "kernelspec": {
   "display_name": "Python 3 (ipykernel)",
   "language": "python",
   "name": "python3"
  },
  "language_info": {
   "codemirror_mode": {
    "name": "ipython",
    "version": 3
   },
   "file_extension": ".py",
   "mimetype": "text/x-python",
   "name": "python",
   "nbconvert_exporter": "python",
   "pygments_lexer": "ipython3",
   "version": "3.10.6"
  }
 },
 "nbformat": 4,
 "nbformat_minor": 5
}
