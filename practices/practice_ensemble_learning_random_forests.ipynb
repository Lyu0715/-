{
 "cells": [
  {
   "attachments": {},
   "cell_type": "markdown",
   "id": "cdd87f13",
   "metadata": {},
   "source": [
    "# (실습) 앙상블 학습과 랜덤 포레스트"
   ]
  },
  {
   "attachments": {},
   "cell_type": "markdown",
   "id": "feac2d9e",
   "metadata": {},
   "source": [
    "**참고**\n",
    "\n",
    "[(구글코랩) 앙상블 학습과 랜덤 포레스트](https://colab.research.google.com/github/codingalzi/handson-ml3/blob/master/notebooks/code_ensemble_learning_random_forests.ipynb)\n",
    "의 소스코드를 먼저 공부하세요."
   ]
  },
  {
   "attachments": {},
   "cell_type": "markdown",
   "id": "01a494fc",
   "metadata": {
    "id": "vrqhX20ses4E"
   },
   "source": [
    "**문제 1**"
   ]
  },
  {
   "attachments": {},
   "cell_type": "markdown",
   "id": "556f5d9b",
   "metadata": {},
   "source": [
    "[(구글코랩) 앙상블 학습과 랜덤 포레스트](https://colab.research.google.com/github/codingalzi/handson-ml3/blob/master/notebooks/code_ensemble_learning_random_forests.ipynb) 의\n",
    "맨 아래에 있는 연습문제 8번-9번 내용을 구글 코랩에서 정리하라."
   ]
  },
  {
   "attachments": {},
   "cell_type": "markdown",
   "id": "66b15cd3",
   "metadata": {
    "id": "vrqhX20ses4E"
   },
   "source": [
    "**문제 2**"
   ]
  },
  {
   "attachments": {},
   "cell_type": "markdown",
   "id": "2f1c643b",
   "metadata": {},
   "source": [
    "[Machine Learning 5 Random Forests](https://www.kaggle.com/code/fengdanye/machine-learning-5-random-forests/notebook)의 내용을 캐글(Kaggle)에서 정리, 학습하라."
   ]
  },
  {
   "attachments": {},
   "cell_type": "markdown",
   "id": "1f1442b0",
   "metadata": {
    "id": "vrqhX20ses4E"
   },
   "source": [
    "**문제 3**"
   ]
  },
  {
   "attachments": {},
   "cell_type": "markdown",
   "id": "c073b5bc",
   "metadata": {},
   "source": [
    "[Machine Learning 6 Basic Ensemble Learning](https://www.kaggle.com/code/fengdanye/machine-learning-6-basic-ensemble-learning/notebook)의 내용을 캐글(Kaggle)에서 정리, 학습하라."
   ]
  },
  {
   "attachments": {},
   "cell_type": "markdown",
   "id": "0f2f5881",
   "metadata": {
    "id": "vrqhX20ses4E"
   },
   "source": [
    "**문제 4**"
   ]
  },
  {
   "attachments": {},
   "cell_type": "markdown",
   "id": "1b008d3e",
   "metadata": {
    "slideshow": {
     "slide_type": "slide"
    }
   },
   "source": [
    "캐글(Kaggle)에서 아래 모델들을 소개하는 자료를 이용하여 블로그를 작성하라.\n",
    "\n",
    "- XGBoost\n",
    "- CatBoost\n",
    "- LightGBM"
   ]
  },
  {
   "attachments": {},
   "cell_type": "markdown",
   "id": "d84474fa",
   "metadata": {
    "id": "vrqhX20ses4E"
   },
   "source": [
    "**문제 5**"
   ]
  },
  {
   "attachments": {},
   "cell_type": "markdown",
   "id": "9d72030c",
   "metadata": {
    "slideshow": {
     "slide_type": "slide"
    }
   },
   "source": [
    "[텐서플로우 결정 포레스트](https://colab.research.google.com/github/tensorflow/decision-forests/blob/main/documentation/tutorials/beginner_colab.ipynb) 내용을 \n",
    "구글 코랩을 이용하여 정리 학습하라."
   ]
  }
 ],
 "metadata": {
  "kernelspec": {
   "display_name": "Python 3 (ipykernel)",
   "language": "python",
   "name": "python3"
  },
  "language_info": {
   "codemirror_mode": {
    "name": "ipython",
    "version": 3
   },
   "file_extension": ".py",
   "mimetype": "text/x-python",
   "name": "python",
   "nbconvert_exporter": "python",
   "pygments_lexer": "ipython3",
   "version": "3.10.6"
  }
 },
 "nbformat": 4,
 "nbformat_minor": 5
}
