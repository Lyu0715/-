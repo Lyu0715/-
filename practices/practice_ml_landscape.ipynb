{
 "cells": [
  {
   "cell_type": "markdown",
   "id": "7f46bb27",
   "metadata": {},
   "source": [
    "# (실습) 한눈에 보는 머신러닝"
   ]
  },
  {
   "cell_type": "markdown",
   "id": "be645e93",
   "metadata": {},
   "source": [
    "**참고**\n",
    "\n",
    "[(구글코랩) 한눈에 보는 머신러닝](https://colab.research.google.com/github/codingalzi/handson-ml3/blob/master/notebooks/code_ml_landscape.ipynb)의 소스코드를 먼저 공부하세요."
   ]
  },
  {
   "cell_type": "markdown",
   "id": "ba03abf6",
   "metadata": {},
   "source": [
    "**문제 1**"
   ]
  },
  {
   "cell_type": "markdown",
   "id": "db985484",
   "metadata": {},
   "source": [
    "[(구글 코랩) 한눈에 보는 머신러닝](https://colab.research.google.com/github/codingalzi/handson-ml3/blob/master/notebooks/code_ml_landscape.ipynb)에서 사용된\n",
    "OECD 삶의 만족도 데이터와 IMF 1인당 GDP 데이터를 2020년도 데이터로 업데이트 한 후에\n",
    "선형회귀 모델을 훈련시킨다.\n",
    "\n",
    "참고: 아래 링크의 내용을 참고하세요.\n",
    "\n",
    "- [handson-ml3: The_machine_learning_landscape](https://github.com/ageron/handson-ml3/blob/main/01_the_machine_learning_landscape.ipynb)"
   ]
  }
 ],
 "metadata": {
  "kernelspec": {
   "display_name": "Python 3 (ipykernel)",
   "language": "python",
   "name": "python3"
  },
  "language_info": {
   "codemirror_mode": {
    "name": "ipython",
    "version": 3
   },
   "file_extension": ".py",
   "mimetype": "text/x-python",
   "name": "python",
   "nbconvert_exporter": "python",
   "pygments_lexer": "ipython3",
   "version": "3.9.7"
  }
 },
 "nbformat": 4,
 "nbformat_minor": 5
}
