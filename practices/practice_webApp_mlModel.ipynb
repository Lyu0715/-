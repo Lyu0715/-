{
 "cells": [
  {
   "cell_type": "markdown",
   "id": "cdd87f13",
   "metadata": {},
   "source": [
    "# (실습) 머신러닝 모델 웹앱"
   ]
  },
  {
   "cell_type": "markdown",
   "id": "66b15cd3",
   "metadata": {
    "id": "vrqhX20ses4E"
   },
   "source": [
    "**문제 1**"
   ]
  },
  {
   "cell_type": "markdown",
   "id": "8a77e527",
   "metadata": {},
   "source": [
    "[Build a web app to use your ML model](https://github.com/codingalzi/ML-For-Beginners/tree/main/3-Web-App) 내용을 학습하여 웹앱을 구현한 후에 깃허브 페이지에 블로그 형식으로 구현된 웹앱을 소개한 후에 블로그 주소를 제출하라."
   ]
  }
 ],
 "metadata": {
  "kernelspec": {
   "display_name": "Python 3 (ipykernel)",
   "language": "python",
   "name": "python3"
  },
  "language_info": {
   "codemirror_mode": {
    "name": "ipython",
    "version": 3
   },
   "file_extension": ".py",
   "mimetype": "text/x-python",
   "name": "python",
   "nbconvert_exporter": "python",
   "pygments_lexer": "ipython3",
   "version": "3.9.7"
  }
 },
 "nbformat": 4,
 "nbformat_minor": 5
}
