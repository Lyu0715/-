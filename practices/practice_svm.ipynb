{
 "cells": [
  {
   "cell_type": "markdown",
   "id": "cdd87f13",
   "metadata": {},
   "source": [
    "# (실습) 서포트 벡터 머신"
   ]
  },
  {
   "cell_type": "markdown",
   "id": "feac2d9e",
   "metadata": {},
   "source": [
    "**참고**\n",
    "\n",
    "[(구글코랩) 서포트 벡터 머신](https://colab.research.google.com/github/codingalzi/handson-ml3/blob/master/notebooks/code_svm.ipynb)\n",
    "의 소스코드를 먼저 공부하세요."
   ]
  },
  {
   "cell_type": "markdown",
   "id": "66b15cd3",
   "metadata": {
    "id": "vrqhX20ses4E"
   },
   "source": [
    "**문제 1**"
   ]
  },
  {
   "cell_type": "markdown",
   "id": "9ef9e2bc",
   "metadata": {},
   "source": [
    "[(구글코랩) 모델 훈련](https://colab.research.google.com/github/codingalzi/handson-ml3/blob/master/notebooks/code_svm.ipynb) 의 \n",
    "맨 아래에 있는 연습문제 9번-11번 내용을 정리하라."
   ]
  },
  {
   "cell_type": "markdown",
   "id": "e754e539",
   "metadata": {
    "id": "vrqhX20ses4E"
   },
   "source": [
    "**문제 2**"
   ]
  },
  {
   "cell_type": "markdown",
   "id": "8a77e527",
   "metadata": {},
   "source": [
    "[Getting started with classification](https://github.com/codingalzi/ML-For-Beginners/tree/main/4-Classification) 내용을 학습하고 깃허브 페이지에 블로그 형식으로 정리한 후 링크를 제출하라."
   ]
  }
 ],
 "metadata": {
  "kernelspec": {
   "display_name": "Python 3 (ipykernel)",
   "language": "python",
   "name": "python3"
  },
  "language_info": {
   "codemirror_mode": {
    "name": "ipython",
    "version": 3
   },
   "file_extension": ".py",
   "mimetype": "text/x-python",
   "name": "python",
   "nbconvert_exporter": "python",
   "pygments_lexer": "ipython3",
   "version": "3.9.7"
  }
 },
 "nbformat": 4,
 "nbformat_minor": 5
}
