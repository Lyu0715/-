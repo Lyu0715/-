{
 "cells": [
  {
   "cell_type": "markdown",
   "id": "cdd87f13",
   "metadata": {},
   "source": [
    "# (실습) 분류 2부"
   ]
  },
  {
   "cell_type": "markdown",
   "id": "66b15cd3",
   "metadata": {
    "id": "vrqhX20ses4E"
   },
   "source": [
    "**문제 1**"
   ]
  },
  {
   "cell_type": "markdown",
   "id": "38501b75",
   "metadata": {},
   "source": [
    "과제 내용: 이전 과제에서 수행한 타이타닉 관련 모델 훈련 과정을 깃허브 리포지토리에 자료로 저장한 후에 깃허브 페이지를 이용하여 자신이 수행한 과제를 소개하는 블로그를 작성한다.\n",
    "\n",
    "제출 내용: 깃허브 페이지 블로그 주소\n",
    "\n",
    "참고 사이트:\n",
    "\n",
    "- GiHub로 개발자 포트폴리오 만들기: https://baeseongh.tistory.com/20\n",
    "- GitHub 블로그 10분 안에 완성!: https://www.youtube.com/watch?v=ACzFIAOsfpM"
   ]
  }
 ],
 "metadata": {
  "kernelspec": {
   "display_name": "Python 3 (ipykernel)",
   "language": "python",
   "name": "python3"
  },
  "language_info": {
   "codemirror_mode": {
    "name": "ipython",
    "version": 3
   },
   "file_extension": ".py",
   "mimetype": "text/x-python",
   "name": "python",
   "nbconvert_exporter": "python",
   "pygments_lexer": "ipython3",
   "version": "3.9.7"
  }
 },
 "nbformat": 4,
 "nbformat_minor": 5
}
