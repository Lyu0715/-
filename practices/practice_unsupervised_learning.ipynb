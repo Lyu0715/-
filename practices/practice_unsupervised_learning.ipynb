{
  "cells": [
    {
      "cell_type": "markdown",
      "id": "cdd87f13",
      "metadata": {
        "id": "cdd87f13"
      },
      "source": [
        "# (실습) 비지도 학습"
      ]
    },
    {
      "cell_type": "markdown",
      "id": "feac2d9e",
      "metadata": {
        "id": "feac2d9e"
      },
      "source": [
        "**참고**\n",
        "\n",
        "[(구글코랩) 비지도 학습](https://colab.research.google.com/github/codingalzi/handson-ml3/blob/master/notebooks/code_unsupervised_learning.ipynb)\n",
        "의 소스코드를 먼저 공부하세요."
      ]
    },
    {
      "cell_type": "markdown",
      "id": "01a494fc",
      "metadata": {
        "id": "01a494fc"
      },
      "source": [
        "**문제 1**"
      ]
    },
    {
      "cell_type": "markdown",
      "id": "ba2567af",
      "metadata": {
        "id": "ba2567af"
      },
      "source": [
        "[2장 머신러닝 프로젝트 처음부터 끝까지](https://codingalzi.github.io/handson-ml3/end2end_ml_project.html#id18)에서 정의한\n",
        "`ClusterSimilarity`에 사용된 `KMeans` 모델의 `n_cluster` 인자의 최적값을 확인하라.\n",
        "즉, 구역의 경도, 위도 정보를 이용해서 몇 개의 군집으로 쪼갤 경우 주택 중위가격 예측 모델의 성능이 가장 좋아하는지 확인하라."
      ]
    },
    {
      "cell_type": "markdown",
      "source": [
        "**문제 2**"
      ],
      "metadata": {
        "id": "KW1vQxb7gvcU"
      },
      "id": "KW1vQxb7gvcU"
    },
    {
      "cell_type": "code",
      "source": [
        "import sklearn\n",
        "import matplotlib.pyplot as plt"
      ],
      "metadata": {
        "id": "-U3O3zBYg3aF"
      },
      "id": "-U3O3zBYg3aF",
      "execution_count": 1,
      "outputs": []
    },
    {
      "cell_type": "code",
      "source": [
        "from sklearn.datasets import load_iris\n",
        "\n",
        "data = load_iris()\n",
        "X = data.data\n",
        "y = data.target"
      ],
      "metadata": {
        "id": "puzNeBcVhCk2"
      },
      "id": "puzNeBcVhCk2",
      "execution_count": 2,
      "outputs": []
    },
    {
      "cell_type": "markdown",
      "source": [
        "붓꽃 데이터셋에 대해 DBSCAN 모델을 적용한 결과를 확인하라.\n",
        "단, $\\varepsilon$-이웃 반경을 여러 개 이용하고\n",
        "경우마다 생성된 군집화를 그래프로 그린다."
      ],
      "metadata": {
        "id": "YnV2Rvq-hIfC"
      },
      "id": "YnV2Rvq-hIfC"
    }
  ],
  "metadata": {
    "kernelspec": {
      "display_name": "Python 3 (ipykernel)",
      "language": "python",
      "name": "python3"
    },
    "language_info": {
      "codemirror_mode": {
        "name": "ipython",
        "version": 3
      },
      "file_extension": ".py",
      "mimetype": "text/x-python",
      "name": "python",
      "nbconvert_exporter": "python",
      "pygments_lexer": "ipython3",
      "version": "3.10.9"
    },
    "colab": {
      "provenance": []
    }
  },
  "nbformat": 4,
  "nbformat_minor": 5
}