{
 "cells": [
  {
   "attachments": {},
   "cell_type": "markdown",
   "id": "cdd87f13",
   "metadata": {},
   "source": [
    "# (실습) 비지도 학습"
   ]
  },
  {
   "attachments": {},
   "cell_type": "markdown",
   "id": "feac2d9e",
   "metadata": {},
   "source": [
    "**참고**\n",
    "\n",
    "[(구글코랩) 비지도 학습](https://colab.research.google.com/github/codingalzi/handson-ml3/blob/master/notebooks/code_unsupervised_learning.ipynb)\n",
    "의 소스코드를 먼저 공부하세요."
   ]
  },
  {
   "attachments": {},
   "cell_type": "markdown",
   "id": "01a494fc",
   "metadata": {
    "id": "vrqhX20ses4E"
   },
   "source": [
    "**문제 1**"
   ]
  },
  {
   "attachments": {},
   "cell_type": "markdown",
   "id": "ba2567af",
   "metadata": {},
   "source": [
    "[2장 머신러닝 프로젝트 처음부터 끝까지](https://codingalzi.github.io/handson-ml3/end2end_ml_project.html#id18)에서 정의한 \n",
    "`ClusterSimilarity`에 사용된 `KMeans` 모델의 `n_cluster` 인자의 최적값을 확인하라.\n",
    "즉, 구역의 경도, 위도 정보를 이용해서 몇 개의 군집으로 쪼갤 경우 주택 중위가격 예측 모델의 성능이 가장 좋아하는지 확인하라."
   ]
  }
 ],
 "metadata": {
  "kernelspec": {
   "display_name": "Python 3 (ipykernel)",
   "language": "python",
   "name": "python3"
  },
  "language_info": {
   "codemirror_mode": {
    "name": "ipython",
    "version": 3
   },
   "file_extension": ".py",
   "mimetype": "text/x-python",
   "name": "python",
   "nbconvert_exporter": "python",
   "pygments_lexer": "ipython3",
   "version": "3.10.9"
  }
 },
 "nbformat": 4,
 "nbformat_minor": 5
}
