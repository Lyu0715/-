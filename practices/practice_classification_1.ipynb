{
 "cells": [
  {
   "cell_type": "markdown",
   "id": "cdd87f13",
   "metadata": {},
   "source": [
    "# 실습 과제"
   ]
  },
  {
   "cell_type": "markdown",
   "id": "feac2d9e",
   "metadata": {},
   "source": [
    "**참고**\n",
    "\n",
    "[(구글코랩) 분류](https://colab.research.google.com/github/codingalzi/handson-ml3/blob/master/notebooks/code_classification.ipynb)\n",
    "의 소스코드를 먼저 공부하세요."
   ]
  },
  {
   "cell_type": "markdown",
   "id": "66b15cd3",
   "metadata": {
    "id": "vrqhX20ses4E"
   },
   "source": [
    "## 과제 1"
   ]
  },
  {
   "cell_type": "markdown",
   "id": "38501b75",
   "metadata": {},
   "source": [
    "타이타닉 데이터 분석 경진대회에 도전하는 과제입니다.\n",
    "\n",
    "연습문제 3번에 해당하는 문제라서 주피터 노트북에 해답이 있기는 합니다.\n",
    "그런데 여러분이 해야 할일은 아래 링크에 들어가서 성적을 받아오는 겁니다.\n",
    "\n",
    "[Titanic - Machine Learning from Disaster | Kaggle](https://www.kaggle.com/c/titanic)\n",
    "\n",
    "- 제출 내용: 캐글 타이타닉 경진대회(competition)에 참가해서 작성한 캐글 주피터 노트북 주소 및 등수 사진 캡처\n",
    "\n",
    "- 참고 자료: 구글 검색에서 \"캐글 타이타닉 competition\" 으로 검색하면 많은 블로그의 글이 검색됨.\n",
    "    그중 아래 두 개 사이트가 읽을만함.\n",
    "\n",
    "    - [Kaggle과 Titanic research로 시작하는 데이터 분석 - Ascent Dev Blog (ascentnet.co.jp)](https://developers.ascentnet.co.jp/2017/11/24/kaggle-process-review/)    \n",
    "    - [캐글 타이타닉 생존자 예측 도전기 (1) - Cyc1am3n's Blog](https://cyc1am3n.github.io/2018/10/09/my-first-kaggle-competition_titanic.html)"
   ]
  },
  {
   "cell_type": "markdown",
   "id": "50fb81e6",
   "metadata": {
    "id": "vrqhX20ses4E"
   },
   "source": [
    "## 과제 2"
   ]
  },
  {
   "cell_type": "markdown",
   "id": "9ef9e2bc",
   "metadata": {},
   "source": [
    "[(구글코랩) 분류](https://colab.research.google.com/github/codingalzi/handson-ml3/blob/master/notebooks/code_classification.ipynb) 의 \n",
    "맨 아래에 있는 연습문제 1번부터 4번까지를 따라하면서 내용을 정리하라."
   ]
  }
 ],
 "metadata": {
  "kernelspec": {
   "display_name": "Python 3 (ipykernel)",
   "language": "python",
   "name": "python3"
  },
  "language_info": {
   "codemirror_mode": {
    "name": "ipython",
    "version": 3
   },
   "file_extension": ".py",
   "mimetype": "text/x-python",
   "name": "python",
   "nbconvert_exporter": "python",
   "pygments_lexer": "ipython3",
   "version": "3.9.7"
  }
 },
 "nbformat": 4,
 "nbformat_minor": 5
}
