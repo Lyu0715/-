{
 "cells": [
  {
   "cell_type": "markdown",
   "id": "cdd87f13",
   "metadata": {},
   "source": [
    "# 실습 과제"
   ]
  },
  {
   "cell_type": "markdown",
   "id": "66b15cd3",
   "metadata": {
    "id": "vrqhX20ses4E"
   },
   "source": [
    "## 과제 1"
   ]
  },
  {
   "cell_type": "markdown",
   "id": "9d8ec23c",
   "metadata": {
    "id": "nehAblbievOG"
   },
   "source": [
    "아래의 세 가지 변환을 전처리 과정에 추가하면 훈련된 모델의 성능이 어떻게 얼마나 달라지는지 이전 모델과 비교하라.\n",
    "\n",
    "__변환 1__\n",
    "\n",
    "중간 소득과 중간 주택 가격 사이의 상관관계 그래프에서 확인할 수 있는 수평선에 위치한 데이터를 삭제한다.\n",
    "\n",
    "__변환 2__\n",
    "\n",
    "회귀 모델 훈련에 사용되는 12개의 특성 중에 세 개는 기존 9개의 특성을 조합하여 생성하였다. 12개의 특성 중에 중간 주택 가격과의 상관계수의 절댓값이 0.2 보다 작은 특성을 삭제한다.\n",
    "\n",
    "주의사항: 특성 삭제는 훈련 세트 뿐만 아니라 테스트 세트에 대해서도 진행해야 한다. 특성이 다르면 동일한 모델을 적용할 수 없다.\n",
    "\n",
    "**힌트**\n",
    "\n",
    "1. 언급된 두 가지 변환을 우선 하나씩 구현하고 구현 가능한 변환만 접목할 것.\n",
    "1. California Housing Price Prediction 프로젝트 관련 사이트를 살펴보고 비슷하게 진행할 것.\n",
    "    - [캐글(kaggle) 참고 페이지 1](https://www.kaggle.com/khushboon/california-housing-price-prediction)\n",
    "    - [캐글(kaggle) 참고 페이지 2](https://www.kaggle.com/suprabhatsk/california-housing-prices-prediction)\n",
    "    - [캐글(kaggle) 참고 페이지 3](https://www.kaggle.com/subashdump/california-housing-price-prediction)\n",
    "1. 지정된 특성값을 갖는 데이터 샘플 삭제: [데이터프레임의 `drop()` 메서드 활용](https://log-laboratory.tistory.com/339)\n",
    "1. 상관관계 도표에서 수평선 위치 찾기: [valut_count() 메서드 활용](https://www.w3resource.com/pandas/series/series-value_counts.php)"
   ]
  }
 ],
 "metadata": {
  "kernelspec": {
   "display_name": "Python 3 (ipykernel)",
   "language": "python",
   "name": "python3"
  },
  "language_info": {
   "codemirror_mode": {
    "name": "ipython",
    "version": 3
   },
   "file_extension": ".py",
   "mimetype": "text/x-python",
   "name": "python",
   "nbconvert_exporter": "python",
   "pygments_lexer": "ipython3",
   "version": "3.9.7"
  }
 },
 "nbformat": 4,
 "nbformat_minor": 5
}
