{
 "cells": [
  {
   "cell_type": "markdown",
   "metadata": {
    "slideshow": {
     "slide_type": "slide"
    }
   },
   "source": [
    "# 3장 분류 (1부)"
   ]
  },
  {
   "cell_type": "markdown",
   "metadata": {
    "colab_type": "text",
    "id": "_6ptLsZo9knQ",
    "slideshow": {
     "slide_type": "slide"
    }
   },
   "source": [
    "## 주요 내용"
   ]
  },
  {
   "cell_type": "markdown",
   "metadata": {
    "colab_type": "text",
    "id": "_6ptLsZo9knQ",
    "slideshow": {
     "slide_type": ""
    }
   },
   "source": [
    "* **MNIST**"
   ]
  },
  {
   "cell_type": "markdown",
   "metadata": {
    "colab_type": "text",
    "id": "_6ptLsZo9knQ",
    "slideshow": {
     "slide_type": ""
    }
   },
   "source": [
    "* **이진 분류기 훈련**"
   ]
  },
  {
   "cell_type": "markdown",
   "metadata": {
    "colab_type": "text",
    "id": "_6ptLsZo9knQ",
    "slideshow": {
     "slide_type": ""
    }
   },
   "source": [
    "* **분류기 성능 측정**"
   ]
  },
  {
   "cell_type": "markdown",
   "metadata": {},
   "source": [
    "- 다중 클래스 분류"
   ]
  },
  {
   "cell_type": "markdown",
   "metadata": {},
   "source": [
    "- 오류 분석"
   ]
  },
  {
   "cell_type": "markdown",
   "metadata": {},
   "source": [
    "- 다중 레이블 분류와 다중 출력 분류"
   ]
  },
  {
   "cell_type": "markdown",
   "metadata": {
    "colab_type": "text",
    "id": "uWLIes9W-hTI",
    "slideshow": {
     "slide_type": "slide"
    }
   },
   "source": [
    "# 3.1. MNIST"
   ]
  },
  {
   "cell_type": "markdown",
   "metadata": {
    "colab_type": "text",
    "id": "uWLIes9W-hTI",
    "slideshow": {
     "slide_type": "slide"
    }
   },
   "source": [
    "### MNIST 데이터셋"
   ]
  },
  {
   "cell_type": "markdown",
   "metadata": {
    "colab_type": "text",
    "id": "uWLIes9W-hTI",
    "slideshow": {
     "slide_type": ""
    }
   },
   "source": [
    "* 미국 고등학생과 인구조사국 직원들이 손으로 쓴 70,000개의 숫자 이미지로 구성된 데이터셋"
   ]
  },
  {
   "cell_type": "markdown",
   "metadata": {
    "colab_type": "text",
    "id": "uWLIes9W-hTI",
    "slideshow": {
     "slide_type": ""
    }
   },
   "source": [
    "* 사용된 0부터 9까지의 숫자는 각각 28x28= 784크기의 픽셀로 구성된 이미지 데이터. "
   ]
  },
  {
   "cell_type": "markdown",
   "metadata": {
    "colab_type": "text",
    "id": "uWLIes9W-hTI",
    "slideshow": {
     "slide_type": ""
    }
   },
   "source": [
    "- 2차원 어레이가 아닌 길이가 784인 1차원 어레이로 제공"
   ]
  },
  {
   "cell_type": "markdown",
   "metadata": {
    "colab_type": "text",
    "id": "uWLIes9W-hTI",
    "slideshow": {
     "slide_type": ""
    }
   },
   "source": [
    "* 레이블: 총 70,000개의 사진 샘플이 표현하는 값"
   ]
  },
  {
   "cell_type": "markdown",
   "metadata": {
    "slideshow": {
     "slide_type": "slide"
    }
   },
   "source": [
    "<div align=\"center\"><img src=\"https://raw.githubusercontent.com/codingalzi/handson-ml3/master/jupyter-book/imgs/ch03/homl03-01.png\" width=\"550\"/></div>"
   ]
  },
  {
   "cell_type": "markdown",
   "metadata": {
    "slideshow": {
     "slide_type": "slide"
    }
   },
   "source": [
    "### 문제 정의"
   ]
  },
  {
   "cell_type": "markdown",
   "metadata": {
    "colab_type": "text",
    "id": "B564-YgL_CeX",
    "slideshow": {
     "slide_type": ""
    }
   },
   "source": [
    "* 지도학습: 각 이미지가 담고 있는 숫자가 레이블(타깃)로 지정됨."
   ]
  },
  {
   "cell_type": "markdown",
   "metadata": {
    "colab_type": "text",
    "id": "B564-YgL_CeX",
    "slideshow": {
     "slide_type": ""
    }
   },
   "source": [
    "* 분류: 이미지 데이터를 분석하여 0부터 9까지의 숫자로 분류"
   ]
  },
  {
   "cell_type": "markdown",
   "metadata": {
    "colab_type": "text",
    "id": "B564-YgL_CeX",
    "slideshow": {
     "slide_type": ""
    }
   },
   "source": [
    "* 이미지 그림을 총 10개의 클래스로 분류하는 **다중 클래스 분류**<font size='2'>multiclass classification</font>"
   ]
  },
  {
   "cell_type": "markdown",
   "metadata": {
    "colab_type": "text",
    "id": "B564-YgL_CeX",
    "slideshow": {
     "slide_type": ""
    }
   },
   "source": [
    "* 배치 학습 활용"
   ]
  },
  {
   "cell_type": "markdown",
   "metadata": {
    "colab_type": "text",
    "id": "nr3yBFsJDyb_",
    "slideshow": {
     "slide_type": "slide"
    }
   },
   "source": [
    "### 훈련셋과 데이터셋"
   ]
  },
  {
   "cell_type": "markdown",
   "metadata": {
    "colab_type": "text",
    "id": "nr3yBFsJDyb_",
    "slideshow": {
     "slide_type": ""
    }
   },
   "source": [
    "* MNIST 데이터셋 이미 6:1 분류되어 있음"
   ]
  },
  {
   "cell_type": "markdown",
   "metadata": {
    "colab_type": "text",
    "id": "nr3yBFsJDyb_",
    "slideshow": {
     "slide_type": ""
    }
   },
   "source": [
    "* 훈련 세트: 앞쪽 60,000개 이미지"
   ]
  },
  {
   "cell_type": "markdown",
   "metadata": {
    "colab_type": "text",
    "id": "nr3yBFsJDyb_",
    "slideshow": {
     "slide_type": ""
    }
   },
   "source": [
    "* 테스트 세트: 나머지 10,000개의 이미지"
   ]
  },
  {
   "cell_type": "markdown",
   "metadata": {
    "colab_type": "text",
    "id": "nhGzfHVBENHD",
    "slideshow": {
     "slide_type": "slide"
    }
   },
   "source": [
    "## 3.2. 이진 분류기 훈련"
   ]
  },
  {
   "cell_type": "markdown",
   "metadata": {
    "colab_type": "text",
    "id": "nhGzfHVBENHD",
    "slideshow": {
     "slide_type": "slide"
    }
   },
   "source": [
    "### 예제: 숫자 5-감지기"
   ]
  },
  {
   "cell_type": "markdown",
   "metadata": {
    "colab_type": "text",
    "id": "nhGzfHVBENHD",
    "slideshow": {
     "slide_type": ""
    }
   },
   "source": [
    "* 이미지 샘플이 숫자 5를 표현하는지 여부를 판단하는 이진 분류기"
   ]
  },
  {
   "cell_type": "markdown",
   "metadata": {
    "colab_type": "text",
    "id": "nhGzfHVBENHD",
    "slideshow": {
     "slide_type": ""
    }
   },
   "source": [
    "* 모든 레이블을 0 또는 1로 수정해야 함\n",
    "    * 0: 숫자 5 이외의 수를 가리키는 이미지 레이블\n",
    "    * 1: 숫자 5를 가리키는 이미지 레이블"
   ]
  },
  {
   "cell_type": "markdown",
   "metadata": {
    "colab_type": "text",
    "id": "7FzWU46mEung",
    "slideshow": {
     "slide_type": "slide"
    }
   },
   "source": [
    "### SGD 분류기 활용"
   ]
  },
  {
   "cell_type": "markdown",
   "metadata": {
    "colab_type": "text",
    "id": "7FzWU46mEung",
    "slideshow": {
     "slide_type": ""
    }
   },
   "source": [
    "* 확률적 경사 하강법<font size='2'>stochastic gradient descent</font> 분류기"
   ]
  },
  {
   "cell_type": "markdown",
   "metadata": {
    "colab_type": "text",
    "id": "7FzWU46mEung",
    "slideshow": {
     "slide_type": ""
    }
   },
   "source": [
    "* 한 번에 하나씩 훈련 샘플 처리 후 파라미터 조정"
   ]
  },
  {
   "cell_type": "markdown",
   "metadata": {
    "colab_type": "text",
    "id": "7FzWU46mEung",
    "slideshow": {
     "slide_type": ""
    }
   },
   "source": [
    "* 매우 큰 데이터셋 처리에 효율적이며 온라인 학습에도 적합"
   ]
  },
  {
   "cell_type": "markdown",
   "metadata": {
    "colab_type": "text",
    "id": "cqybhlf6FSci",
    "slideshow": {
     "slide_type": ""
    }
   },
   "source": [
    "* 훈련: `fit()` 메서드 호출\n",
    "\n",
    "    ```python\n",
    "    from sklearn.linear_model import SGDClassifier\n",
    "\n",
    "    sgd_clf = SGDClassifier(max_iter=1000, tol=1e-3, random_state=42)\n",
    "    sgd_clf.fit(X_train, y_train_5)\n",
    "    ```"
   ]
  },
  {
   "cell_type": "markdown",
   "metadata": {
    "colab_type": "text",
    "id": "HKzlrc2OFwkQ",
    "slideshow": {
     "slide_type": "slide"
    }
   },
   "source": [
    "## 3.3. 분류기 성능 측정"
   ]
  },
  {
   "cell_type": "markdown",
   "metadata": {
    "colab_type": "text",
    "id": "HKzlrc2OFwkQ",
    "slideshow": {
     "slide_type": "slide"
    }
   },
   "source": [
    "### 성능 측정 기준"
   ]
  },
  {
   "cell_type": "markdown",
   "metadata": {
    "colab_type": "text",
    "id": "HKzlrc2OFwkQ",
    "slideshow": {
     "slide_type": ""
    }
   },
   "source": [
    "* 정확도"
   ]
  },
  {
   "cell_type": "markdown",
   "metadata": {
    "colab_type": "text",
    "id": "HKzlrc2OFwkQ",
    "slideshow": {
     "slide_type": ""
    }
   },
   "source": [
    "* 정밀도/재현율"
   ]
  },
  {
   "cell_type": "markdown",
   "metadata": {
    "colab_type": "text",
    "id": "HKzlrc2OFwkQ",
    "slideshow": {
     "slide_type": ""
    }
   },
   "source": [
    "* ROC 곡선의 AUC"
   ]
  },
  {
   "cell_type": "markdown",
   "metadata": {
    "colab_type": "text",
    "id": "CBkbkKOcGA4G",
    "slideshow": {
     "slide_type": "slide"
    }
   },
   "source": [
    "### 교차 검증 활용 정확도 측정"
   ]
  },
  {
   "cell_type": "markdown",
   "metadata": {
    "colab_type": "text",
    "id": "CBkbkKOcGA4G",
    "slideshow": {
     "slide_type": ""
    }
   },
   "source": [
    "* 숫자 5를 표현하는 이미지를 정확하게 예측한 비율."
   ]
  },
  {
   "cell_type": "markdown",
   "metadata": {
    "colab_type": "text",
    "id": "CBkbkKOcGA4G",
    "slideshow": {
     "slide_type": ""
    }
   },
   "source": [
    "* `cross_val_score` 모델의 `scoring=\"accuracy\"` 키워드 인자 지정"
   ]
  },
  {
   "cell_type": "markdown",
   "metadata": {
    "colab_type": "text",
    "id": "CBkbkKOcGA4G",
    "slideshow": {
     "slide_type": ""
    }
   },
   "source": [
    "```python\n",
    "from sklearn.model_selection import cross_val_score\n",
    "\n",
    "cross_val_score(sgd_clf, X_train, y_train_5, cv=3, scoring=\"accuracy\")\n",
    "```"
   ]
  },
  {
   "cell_type": "markdown",
   "metadata": {
    "slideshow": {
     "slide_type": "slide"
    }
   },
   "source": [
    "### 95%의 정확도를 갖는 분류기 이해"
   ]
  },
  {
   "cell_type": "markdown",
   "metadata": {
    "colab_type": "text",
    "id": "NtvFM0j-Gzy8",
    "slideshow": {
     "slide_type": ""
    }
   },
   "source": [
    "* 교차 검증 결과: 95% 이상의 정확도\n",
    "    "
   ]
  },
  {
   "cell_type": "markdown",
   "metadata": {
    "colab_type": "text",
    "id": "NtvFM0j-Gzy8",
    "slideshow": {
     "slide_type": ""
    }
   },
   "source": [
    "* 하지만 무조건 '5 아님'이라고 찍는 분류기도 90%의 정확도를 보임."
   ]
  },
  {
   "cell_type": "markdown",
   "metadata": {
    "colab_type": "text",
    "id": "NtvFM0j-Gzy8",
    "slideshow": {
     "slide_type": ""
    }
   },
   "source": [
    "* 훈련 세트의 샘플이 불균형적으로 구성되었다면, \n",
    "    정확도를 분류기의 성능 측정 기준으로 사용하는 것은 피해야 함"
   ]
  },
  {
   "cell_type": "markdown",
   "metadata": {
    "colab_type": "text",
    "id": "PAQQy0I2It_j",
    "slideshow": {
     "slide_type": "slide"
    }
   },
   "source": [
    "### 오차 행렬, 정밀도, 재현율"
   ]
  },
  {
   "cell_type": "markdown",
   "metadata": {},
   "source": [
    "- 오차 행렬을 이용하여 분류기의 또다른 성능 측정 기준인 정밀도와 재현율 설명"
   ]
  },
  {
   "cell_type": "markdown",
   "metadata": {
    "slideshow": {
     "slide_type": "slide"
    }
   },
   "source": [
    "### 오차행렬"
   ]
  },
  {
   "cell_type": "markdown",
   "metadata": {
    "slideshow": {
     "slide_type": ""
    }
   },
   "source": [
    "* **오차 행렬**<font size='2'>confusion matrix</font>: 클래스별 예측 결과의 참/거짓을 정리한 행렬"
   ]
  },
  {
   "cell_type": "markdown",
   "metadata": {},
   "source": [
    "* 숫자-5 감지기에 대한 오차 행렬\n",
    "\n",
    "    ```\n",
    "    array([[53892,   687],\n",
    "           [ 1891,  3530]])\n",
    "    ```"
   ]
  },
  {
   "cell_type": "markdown",
   "metadata": {
    "slideshow": {
     "slide_type": "slide"
    }
   },
   "source": [
    "### 오차 행렬 해석"
   ]
  },
  {
   "cell_type": "markdown",
   "metadata": {},
   "source": [
    "- 이진 분류기의 오차 행렬 내용\n",
    "    - TN(참 음성): 음성을 음성으로 잘 예측한 경우\n",
    "    - FP(거짓 양성): 음성을 양성으로 잘못 예측한 경우\n",
    "    - FN(거짓 음성): 양성을 음성으로 잘못 예측한 경우\n",
    "    - TP(참 양성): 양성을 양성으로 잘 예측한 경우"
   ]
  },
  {
   "cell_type": "markdown",
   "metadata": {
    "slideshow": {
     "slide_type": "slide"
    }
   },
   "source": [
    "### 예제"
   ]
  },
  {
   "cell_type": "markdown",
   "metadata": {
    "slideshow": {
     "slide_type": ""
    }
   },
   "source": [
    "- 아래 그림에 대한 오차 행렬\n",
    "\n",
    "    ```\n",
    "    array([[5, 1],\n",
    "           [2, 3]])\n",
    "    ```"
   ]
  },
  {
   "cell_type": "markdown",
   "metadata": {
    "slideshow": {
     "slide_type": ""
    }
   },
   "source": [
    "<div align=\"center\"><img src=\"https://raw.githubusercontent.com/codingalzi/handson-ml3/master/jupyter-book/imgs/ch03/homl03-02.png\" width=\"500\"/></div>"
   ]
  },
  {
   "cell_type": "markdown",
   "metadata": {
    "colab_type": "text",
    "id": "NeAUnMABGFp1",
    "slideshow": {
     "slide_type": "slide"
    }
   },
   "source": [
    "### 정밀도<font size='2'>precision</font>"
   ]
  },
  {
   "cell_type": "markdown",
   "metadata": {
    "colab_type": "text",
    "id": "NeAUnMABGFp1",
    "slideshow": {
     "slide_type": ""
    }
   },
   "source": [
    "* 양성 예측의 정확도"
   ]
  },
  {
   "cell_type": "markdown",
   "metadata": {
    "colab_type": "text",
    "id": "NeAUnMABGFp1",
    "slideshow": {
     "slide_type": ""
    }
   },
   "source": [
    "* 예제: 숫자 5라고 예측된 값들 중에서 진짜로 5인 숫자들의 비율\n",
    "\n",
    "    $$\\text{정밀도} = \\frac{TP}{TP+FP} = \\frac{3530}{3530 + 687} = 0.837$$"
   ]
  },
  {
   "cell_type": "markdown",
   "metadata": {
    "colab_type": "text",
    "id": "RvbwFTjiHiMA",
    "slideshow": {
     "slide_type": "slide"
    }
   },
   "source": [
    "### 재현율<font size='2'>recall</font>"
   ]
  },
  {
   "cell_type": "markdown",
   "metadata": {
    "colab_type": "text",
    "id": "RvbwFTjiHiMA",
    "slideshow": {
     "slide_type": ""
    }
   },
   "source": [
    "* 양성 샘플에 대한 정확도, 즉, 분류기가 정확하게 감지한 양성 샘플의 비율"
   ]
  },
  {
   "cell_type": "markdown",
   "metadata": {
    "colab_type": "text",
    "id": "RvbwFTjiHiMA",
    "slideshow": {
     "slide_type": ""
    }
   },
   "source": [
    "* 재현율을 __민감도__(sensitivity) 또는 __참 양성 비율__(true positive rate)로도 부름\n",
    "\n",
    "    $$\\text{재현율} = \\frac{TP}{TP+FN} = \\frac{3530}{3530 + 1891} = 0.651$$"
   ]
  },
  {
   "cell_type": "markdown",
   "metadata": {
    "slideshow": {
     "slide_type": "slide"
    }
   },
   "source": [
    "### 정밀도 vs. 재현율"
   ]
  },
  {
   "cell_type": "markdown",
   "metadata": {},
   "source": [
    "* 목적에 따라 정밀도와 재현율의 중요도가 다름"
   ]
  },
  {
   "cell_type": "markdown",
   "metadata": {
    "colab_type": "text",
    "id": "ieAo6YLdIbbD",
    "slideshow": {
     "slide_type": ""
    }
   },
   "source": [
    "* 재현율이 보다 중요한 경우: 암 진단 기준\n",
    "  * 정밀도: 암이라고 진단했는데 진짜 암인 경우의 비율\n",
    "  * 재현율: 암이 실제로 있는데 암이라고 진단한 경우의 비율"
   ]
  },
  {
   "cell_type": "markdown",
   "metadata": {
    "colab_type": "text",
    "id": "ieAo6YLdIbbD",
    "slideshow": {
     "slide_type": ""
    }
   },
   "source": [
    "* 정밀도가 보다 중요한 경우: 아동용 동영상 선택 기준\n",
    "  * 정밀도: 아동용으로 판단된 동영상 중에서 실제로 아동용인 동영상의 비율\n",
    "  * 재현율: 아동용 동영상 중에서 아동용 동영상이라고 판단된 동영상의 비율"
   ]
  },
  {
   "cell_type": "markdown",
   "metadata": {
    "colab_type": "text",
    "id": "_pW5m4MRJz0N",
    "slideshow": {
     "slide_type": "slide"
    }
   },
   "source": [
    "### 정밀도/재현율 트레이드오프"
   ]
  },
  {
   "cell_type": "markdown",
   "metadata": {
    "colab_type": "text",
    "id": "_pW5m4MRJz0N",
    "slideshow": {
     "slide_type": ""
    }
   },
   "source": [
    "* 정밀도와 재현율은 상호 반비례 관계임."
   ]
  },
  {
   "cell_type": "markdown",
   "metadata": {
    "colab_type": "text",
    "id": "_pW5m4MRJz0N",
    "slideshow": {
     "slide_type": ""
    }
   },
   "source": [
    "* 정밀도와 재현율 사이의 적절한 비율을 유지하는 분류기를 찾아야 함.\n",
    "    "
   ]
  },
  {
   "cell_type": "markdown",
   "metadata": {
    "colab_type": "text",
    "id": "_pW5m4MRJz0N",
    "slideshow": {
     "slide_type": ""
    }
   },
   "source": [
    "* 적절한 __결정 임곗값__을 지정해야 함."
   ]
  },
  {
   "cell_type": "markdown",
   "metadata": {
    "colab_type": "text",
    "id": "_pW5m4MRJz0N",
    "slideshow": {
     "slide_type": "slide"
    }
   },
   "source": [
    "### 결정 함수와 결정 임곗값"
   ]
  },
  {
   "cell_type": "markdown",
   "metadata": {
    "colab_type": "text",
    "id": "_pW5m4MRJz0N",
    "slideshow": {
     "slide_type": ""
    }
   },
   "source": [
    "* **결정 함수**<font size='2'>decision function</font>: 각 훈련 샘플에 대한 점수를 계산하는 함수 "
   ]
  },
  {
   "cell_type": "markdown",
   "metadata": {
    "colab_type": "text",
    "id": "_pW5m4MRJz0N",
    "slideshow": {
     "slide_type": ""
    }
   },
   "source": [
    "* **결정 임계값**<font size='w'>decision threshold</font>: 결정 함수가 양성 클래스 또는 음성 클래스로 분류하는 데에 사용하는 기준값"
   ]
  },
  {
   "cell_type": "markdown",
   "metadata": {
    "slideshow": {
     "slide_type": ""
    }
   },
   "source": [
    "* 결정 임곗값이 클 수록 정밀도는 올라가지만 재현율은 떨어짐."
   ]
  },
  {
   "cell_type": "markdown",
   "metadata": {
    "slideshow": {
     "slide_type": ""
    }
   },
   "source": [
    "<div align=\"center\"><img src=\"https://raw.githubusercontent.com/codingalzi/handson-ml3/master/jupyter-book/imgs/ch03/homl03-03.png\" width=\"700\"/></div>"
   ]
  },
  {
   "cell_type": "markdown",
   "metadata": {
    "slideshow": {
     "slide_type": "slide"
    }
   },
   "source": [
    "### 임곗값, 재현율, 정밀도"
   ]
  },
  {
   "cell_type": "markdown",
   "metadata": {
    "slideshow": {
     "slide_type": ""
    }
   },
   "source": [
    "<div align=\"center\"><img src=\"https://raw.githubusercontent.com/codingalzi/handson-ml3/master/jupyter-book/imgs/ch03/homl03-04.png\" width=\"700\"/></div>"
   ]
  },
  {
   "cell_type": "markdown",
   "metadata": {
    "slideshow": {
     "slide_type": "slide"
    }
   },
   "source": [
    "### 재현율 vs. 정밀도"
   ]
  },
  {
   "cell_type": "markdown",
   "metadata": {
    "slideshow": {
     "slide_type": ""
    }
   },
   "source": [
    "<div align=\"center\"><img src=\"https://raw.githubusercontent.com/codingalzi/handson-ml3/master/jupyter-book/imgs/ch03/homl03-05.png\" width=\"500\"/></div>"
   ]
  },
  {
   "cell_type": "markdown",
   "metadata": {
    "colab_type": "text",
    "id": "FwsLOHJpP9m3",
    "slideshow": {
     "slide_type": "slide"
    }
   },
   "source": [
    "### ROC 곡선의 AUC"
   ]
  },
  {
   "cell_type": "markdown",
   "metadata": {
    "colab_type": "text",
    "id": "FwsLOHJpP9m3",
    "slideshow": {
     "slide_type": ""
    }
   },
   "source": [
    "* __수신기 조작 특성__(receiver operating characteristic, ROC) 곡선을 활용하여 이진 분류기의 성능 측정 가능"
   ]
  },
  {
   "cell_type": "markdown",
   "metadata": {
    "colab_type": "text",
    "id": "FwsLOHJpP9m3",
    "slideshow": {
     "slide_type": ""
    }
   },
   "source": [
    "* **ROC 곡선**: **거짓 양성 비율**<font size='2'>false positive rate</font>(FPR)에 대한 \n",
    "    **참 양성 비율**<font size='2'>true positive rate</font>(TPR)의 관계를 나타내는 곡선\n",
    "    "
   ]
  },
  {
   "cell_type": "markdown",
   "metadata": {
    "colab_type": "text",
    "id": "FwsLOHJpP9m3",
    "slideshow": {
     "slide_type": ""
    }
   },
   "source": [
    "* 참 양성 비율: 재현율"
   ]
  },
  {
   "cell_type": "markdown",
   "metadata": {
    "colab_type": "text",
    "id": "FwsLOHJpP9m3",
    "slideshow": {
     "slide_type": ""
    }
   },
   "source": [
    "* 거짓 양성 비율: 원래 음성인 샘플 중에서 양성이라고 잘못 분류된 샘플들의 비율.\n",
    "    예를 들어, 5가 아닌 숫자중에서 5로 잘못 예측된 숫자의 비율\n",
    "\n",
    "    $$\\text{FPR} = \\frac{FP}{FP+TN}$$"
   ]
  },
  {
   "cell_type": "markdown",
   "metadata": {
    "slideshow": {
     "slide_type": "slide"
    }
   },
   "source": [
    "### 참 양성 비율(TPR) vs. 거짓 양성 비율(FPR)"
   ]
  },
  {
   "cell_type": "markdown",
   "metadata": {
    "slideshow": {
     "slide_type": ""
    }
   },
   "source": [
    "<div align=\"center\"><img src=\"https://raw.githubusercontent.com/codingalzi/handson-ml3/master/jupyter-book/imgs/ch03/homl03-06.png\" width=\"500\"/></div>"
   ]
  },
  {
   "cell_type": "markdown",
   "metadata": {
    "colab_type": "text",
    "id": "WJ0XiKfpSloy",
    "slideshow": {
     "slide_type": "slide"
    }
   },
   "source": [
    "### AUC와 분류기 성능"
   ]
  },
  {
   "cell_type": "markdown",
   "metadata": {
    "colab_type": "text",
    "id": "WJ0XiKfpSloy",
    "slideshow": {
     "slide_type": ""
    }
   },
   "source": [
    "* 재현율(TPR)과 거짓 양성 비율(FPR) 사이에도 서로 상쇄하는 기능이 있다는 것을 확인 가능"
   ]
  },
  {
   "cell_type": "markdown",
   "metadata": {
    "colab_type": "text",
    "id": "WJ0XiKfpSloy",
    "slideshow": {
     "slide_type": ""
    }
   },
   "source": [
    "* 즉, 재현율(TPR)을 높이고자 하면 거짓 양성 비율(FPR)도 함께 증가"
   ]
  },
  {
   "cell_type": "markdown",
   "metadata": {
    "colab_type": "text",
    "id": "WJ0XiKfpSloy",
    "slideshow": {
     "slide_type": ""
    }
   },
   "source": [
    "* 좋은 분류기는 재현율은 높으면서 거짓 양성 비율은 최대한 낮게 유지해야함"
   ]
  },
  {
   "cell_type": "markdown",
   "metadata": {
    "colab_type": "text",
    "id": "WJ0XiKfpSloy",
    "slideshow": {
     "slide_type": ""
    }
   },
   "source": [
    "* ROC 곡선이 y축에 최대한 근접하는 결과가 나오도록 해야함."
   ]
  },
  {
   "cell_type": "markdown",
   "metadata": {
    "colab_type": "text",
    "id": "WJ0XiKfpSloy",
    "slideshow": {
     "slide_type": ""
    }
   },
   "source": [
    "* __AUC__(ROC 곡선 아래의 면적)가 1에 가까울 수록 성능이 좋은 분류기로 평가됨."
   ]
  },
  {
   "cell_type": "markdown",
   "metadata": {
    "slideshow": {
     "slide_type": "slide"
    }
   },
   "source": [
    "### SGD와 랜덤 포레스트의 AUC 비교"
   ]
  },
  {
   "cell_type": "markdown",
   "metadata": {
    "slideshow": {
     "slide_type": ""
    }
   },
   "source": [
    "<div align=\"center\"><img src=\"https://raw.githubusercontent.com/codingalzi/handson-ml3/master/jupyter-book/imgs/ch03/homl03-07a.png\" width=\"500\"/></div>"
   ]
  }
 ],
 "metadata": {
  "celltoolbar": "Slideshow",
  "colab": {
   "collapsed_sections": [],
   "name": "핸즈온머신러닝_3장.ipynb",
   "provenance": []
  },
  "kernelspec": {
   "display_name": "Python 3 (ipykernel)",
   "language": "python",
   "name": "python3"
  },
  "language_info": {
   "codemirror_mode": {
    "name": "ipython",
    "version": 3
   },
   "file_extension": ".py",
   "mimetype": "text/x-python",
   "name": "python",
   "nbconvert_exporter": "python",
   "pygments_lexer": "ipython3",
   "version": "3.9.13"
  }
 },
 "nbformat": 4,
 "nbformat_minor": 1
}
