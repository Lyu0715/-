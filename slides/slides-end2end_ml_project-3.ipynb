{
 "cells": [
  {
   "cell_type": "markdown",
   "metadata": {
    "colab_type": "text",
    "id": "thQWHShjWsXN",
    "slideshow": {
     "slide_type": "slide"
    }
   },
   "source": [
    "# 2장 머신러닝 프로젝트 처음부터 끝까지 (3부)"
   ]
  },
  {
   "cell_type": "markdown",
   "metadata": {
    "slideshow": {
     "slide_type": "slide"
    }
   },
   "source": [
    "## 개요"
   ]
  },
  {
   "cell_type": "markdown",
   "metadata": {
    "slideshow": {
     "slide_type": "slide"
    }
   },
   "source": [
    "<div align=\"center\"><img src=\"https://raw.githubusercontent.com/codingalzi/handson-ml3/master/jupyter-book/imgs/ch02/homl02-01dc.png\" width=\"800\"></div>"
   ]
  },
  {
   "cell_type": "markdown",
   "metadata": {
    "colab_type": "text",
    "id": "QbFHKNvDMVvD",
    "slideshow": {
     "slide_type": "slide"
    }
   },
   "source": [
    "## 2.7. 모델 선택과 훈련"
   ]
  },
  {
   "cell_type": "markdown",
   "metadata": {
    "slideshow": {
     "slide_type": "slide"
    }
   },
   "source": [
    "### 2.7.1. 모델 훈련과 평가"
   ]
  },
  {
   "cell_type": "markdown",
   "metadata": {
    "slideshow": {
     "slide_type": ""
    }
   },
   "source": [
    "* 지금까지 한 일\n",
    "    * 훈련셋 / 테스트셋 구분\n",
    "    * 변환 파이프라인을 활용한 데이터 전처리"
   ]
  },
  {
   "cell_type": "markdown",
   "metadata": {
    "slideshow": {
     "slide_type": ""
    }
   },
   "source": [
    "* 이제 할 일\n",
    "    * 회귀 모델 선택 후 훈련\n",
    "    * 예제: 선형 회귀, 결정트리, 랜덤 포레스트"
   ]
  },
  {
   "cell_type": "markdown",
   "metadata": {
    "slideshow": {
     "slide_type": "slide"
    }
   },
   "source": [
    "### 모델 선택"
   ]
  },
  {
   "cell_type": "markdown",
   "metadata": {
    "colab_type": "text",
    "id": "QbFHKNvDMVvD",
    "slideshow": {
     "slide_type": ""
    }
   },
   "source": [
    "* 목표: 구역별 주택 중위가격 예측 모델"
   ]
  },
  {
   "cell_type": "markdown",
   "metadata": {
    "colab_type": "text",
    "id": "QbFHKNvDMVvD",
    "slideshow": {
     "slide_type": ""
    }
   },
   "source": [
    "* 학습 모델: 회귀 모델 지정"
   ]
  },
  {
   "cell_type": "markdown",
   "metadata": {
    "colab_type": "text",
    "id": "QbFHKNvDMVvD",
    "slideshow": {
     "slide_type": ""
    }
   },
   "source": [
    "* 회귀 모델 성능 측정 지표 지정: RMSE (평균 제곱근 오차)"
   ]
  },
  {
   "cell_type": "markdown",
   "metadata": {
    "slideshow": {
     "slide_type": "slide"
    }
   },
   "source": [
    "### RMSE"
   ]
  },
  {
   "cell_type": "markdown",
   "metadata": {},
   "source": [
    "- Root-mean-square error (평균 제곱근 오차)."
   ]
  },
  {
   "cell_type": "markdown",
   "metadata": {},
   "source": [
    "- 예측 오차의 제곱의 평균값에 루트를 쒸운 값."
   ]
  },
  {
   "cell_type": "markdown",
   "metadata": {},
   "source": [
    "- 0에 가까울 수록 모델의 예측 성능이 좋음."
   ]
  },
  {
   "cell_type": "markdown",
   "metadata": {
    "colab_type": "text",
    "id": "rcUgKOFKNvYL",
    "slideshow": {
     "slide_type": "slide"
    }
   },
   "source": [
    "### 선형 회귀 모델"
   ]
  },
  {
   "cell_type": "markdown",
   "metadata": {
    "colab_type": "text",
    "id": "rcUgKOFKNvYL",
    "slideshow": {
     "slide_type": ""
    }
   },
   "source": [
    "* 선형 회귀 모델 생성: 사이킷런의 `LinearRegression` 클래스 활용"
   ]
  },
  {
   "cell_type": "markdown",
   "metadata": {
    "colab_type": "text",
    "id": "rcUgKOFKNvYL",
    "slideshow": {
     "slide_type": ""
    }
   },
   "source": [
    "* 훈련 및 예측: 4장에서 자세히 소개.\n",
    "\n",
    "```python\n",
    "from sklearn.linear_model import LinearRegression\n",
    "from sklearn.metrics import mean_squared_error\n",
    "\n",
    "lin_reg = make_pipeline(preprocessing, LinearRegression())\n",
    "lin_reg.fit(housing, housing_labels)\n",
    "lin_reg.predict(housing)\n",
    "lin_rmse = mean_squared_error(housing_labels, housing_predictions,\n",
    "                              squared=False)\n",
    "```"
   ]
  },
  {
   "cell_type": "markdown",
   "metadata": {
    "slideshow": {
     "slide_type": "slide"
    }
   },
   "source": [
    "### 선형 회귀 모델 훈련 결과"
   ]
  },
  {
   "cell_type": "markdown",
   "metadata": {
    "slideshow": {
     "slide_type": ""
    }
   },
   "source": [
    "- RMSE(평균 제곱근 오차): 68687.89 정도로 나쁨."
   ]
  },
  {
   "cell_type": "markdown",
   "metadata": {},
   "source": [
    "- 모델의 훈련셋에 대한 성능이 낮아서 **과소적합** 현상이 발생했다고 말할 수 있음."
   ]
  },
  {
   "cell_type": "markdown",
   "metadata": {},
   "source": [
    "- 보다 좋은 특성을 찾거나 더 강력한 모델을 적용해야 함."
   ]
  },
  {
   "cell_type": "markdown",
   "metadata": {
    "colab_type": "text",
    "id": "FUGT-mPmPfE3",
    "slideshow": {
     "slide_type": "slide"
    }
   },
   "source": [
    "### 결정트리 회귀 모델"
   ]
  },
  {
   "cell_type": "markdown",
   "metadata": {
    "colab_type": "text",
    "id": "FUGT-mPmPfE3",
    "slideshow": {
     "slide_type": ""
    }
   },
   "source": [
    " 결정트리 회귀 모델 생성: 사이킷런의 `DecisionTreeRegressor` 클래스 활용"
   ]
  },
  {
   "cell_type": "markdown",
   "metadata": {
    "colab_type": "text",
    "id": "FUGT-mPmPfE3",
    "slideshow": {
     "slide_type": ""
    }
   },
   "source": [
    "* 훈련 및 예측: 6장에서 자세히 소개\n",
    "\n",
    "```python\n",
    "from sklearn.tree import DecisionTreeRegressor\n",
    "\n",
    "tree_reg = make_pipeline(preprocessing, DecisionTreeRegressor(random_state=42))\n",
    "tree_reg.fit(housing, housing_labels)\n",
    "housing_predictions = tree_reg.predict(housing)\n",
    "\n",
    "tree_rmse = mean_squared_error(housing_labels, housing_predictions,\n",
    "                              squared=False)\n",
    "```"
   ]
  },
  {
   "cell_type": "markdown",
   "metadata": {
    "slideshow": {
     "slide_type": "slide"
    }
   },
   "source": [
    "### 결정트리 회귀 모델 훈련 결과"
   ]
  },
  {
   "cell_type": "markdown",
   "metadata": {
    "slideshow": {
     "slide_type": ""
    }
   },
   "source": [
    "- RMSE가 0으로 완벽해 보임."
   ]
  },
  {
   "cell_type": "markdown",
   "metadata": {},
   "source": [
    "* 모델이 훈련셋에 심각하게 **과대적합** 됨."
   ]
  },
  {
   "cell_type": "markdown",
   "metadata": {},
   "source": [
    "- 실전 상황에서 RMSE가 0이 되는 것은 불가능."
   ]
  },
  {
   "cell_type": "markdown",
   "metadata": {},
   "source": [
    "- 테스트셋에 대한 RMSE가 매우 높음"
   ]
  },
  {
   "cell_type": "markdown",
   "metadata": {
    "colab_type": "text",
    "id": "FUGT-mPmPfE3",
    "slideshow": {
     "slide_type": "slide"
    }
   },
   "source": [
    "### 랜덤 포레스트 회귀 모델"
   ]
  },
  {
   "cell_type": "markdown",
   "metadata": {
    "colab_type": "text",
    "id": "FUGT-mPmPfE3",
    "slideshow": {
     "slide_type": ""
    }
   },
   "source": [
    "* 랜덤 포레스트 회귀 모델 생성: 사이킷런의 `RandomForestRegressor` 클래스 활용"
   ]
  },
  {
   "cell_type": "markdown",
   "metadata": {
    "colab_type": "text",
    "id": "FUGT-mPmPfE3",
    "slideshow": {
     "slide_type": ""
    }
   },
   "source": [
    "* 훈련 및 예측: 100개의 결정트리 동시에 훈련. 7장에서 자세히 소개\n",
    "\n",
    "```python\n",
    "from sklearn.ensemble import RandomForestRegressor\n",
    "\n",
    "forest_reg = make_pipeline(preprocessing,\n",
    "                           RandomForestRegressor(n_estimators=100, random_state=42))\n",
    "forest_reg.fit(housing, housing_labels)\n",
    "housing_predictions = forest_reg.predict(housing)\n",
    "\n",
    "forest_rmse = mean_squared_error(housing_labels, housing_predictions,\n",
    "                                 squared=False)\n",
    "```"
   ]
  },
  {
   "cell_type": "markdown",
   "metadata": {
    "slideshow": {
     "slide_type": "slide"
    }
   },
   "source": [
    "### 랜덤 포레스트 회귀 모델 훈련 결과"
   ]
  },
  {
   "cell_type": "markdown",
   "metadata": {},
   "source": [
    "- RMSE(`tree_rmse`)가 17474 정도로 선형회귀 모델 보다 헐씬 낮음."
   ]
  },
  {
   "cell_type": "markdown",
   "metadata": {},
   "source": [
    "- 테스트셋에 대한 RMSE가 보다 높기는 함."
   ]
  },
  {
   "cell_type": "markdown",
   "metadata": {},
   "source": [
    "- 하지만 결정트리 모델 보다 **과대적합** 현상이 매우 적게 발생함."
   ]
  },
  {
   "cell_type": "markdown",
   "metadata": {
    "slideshow": {
     "slide_type": "slide"
    }
   },
   "source": [
    "### 2.7.2. 교차 검증"
   ]
  },
  {
   "cell_type": "markdown",
   "metadata": {},
   "source": [
    "* 테스트셋를 사용하지 않으면서 훈련 과정을 평가할 수 있음."
   ]
  },
  {
   "cell_type": "markdown",
   "metadata": {
    "slideshow": {
     "slide_type": "slide"
    }
   },
   "source": [
    "### k-겹 교차 검증"
   ]
  },
  {
   "cell_type": "markdown",
   "metadata": {},
   "source": [
    "1. 폴드 생성: 훈련셋을 **폴드**<font size='2'>fold</font>라 불리는 k-개의 부분 집합으로 무작위로 분할"
   ]
  },
  {
   "cell_type": "markdown",
   "metadata": {},
   "source": [
    "2. 모델 훈련: 총 k 번 훈련\n",
    "    * 매 훈련마나다 하나의 폴드를 선택하여 검증 데이터셋으로 지정\n",
    "    * 나머지 (k-1) 개의 폴드를 대상으로 훈련\n",
    "    * 매 훈련이 끝날 때마다 선택된 검증 데이터셋을 이용하여 모델 평가\n",
    "    * 매번 다른 폴드 활용"
   ]
  },
  {
   "cell_type": "markdown",
   "metadata": {},
   "source": [
    "3. 최종평가: k-번 훈련 평가 결과의 평균값 활용"
   ]
  },
  {
   "cell_type": "markdown",
   "metadata": {
    "slideshow": {
     "slide_type": "slide"
    }
   },
   "source": [
    "### 예제: 5-겹 교차 검증"
   ]
  },
  {
   "cell_type": "markdown",
   "metadata": {
    "colab_type": "text",
    "id": "txtgeSRw_FzC",
    "slideshow": {
     "slide_type": ""
    }
   },
   "source": [
    "<div align=\"center\"><img src=\"https://raw.githubusercontent.com/codingalzi/handson-ml3/master/jupyter-book/imgs/ch02/cross-val10.png\" width=\"400\"></div>"
   ]
  },
  {
   "cell_type": "markdown",
   "metadata": {
    "slideshow": {
     "slide_type": "slide"
    }
   },
   "source": [
    "### 사이킷런의 `cross_val_score` 함수: k-겹 교차 검증"
   ]
  },
  {
   "cell_type": "markdown",
   "metadata": {
    "colab_type": "text",
    "id": "j33mMeoDQWc6",
    "slideshow": {
     "slide_type": "slide"
    }
   },
   "source": [
    "- 예제: 결정 트리 모델 10-겹 교차 검증"
   ]
  },
  {
   "cell_type": "markdown",
   "metadata": {
    "colab_type": "text",
    "id": "j33mMeoDQWc6",
    "slideshow": {
     "slide_type": ""
    }
   },
   "source": [
    "```python\n",
    "from sklearn.model_selection import cross_val_score\n",
    "\n",
    "tree_rmses = -cross_val_score(tree_reg, housing, housing_labels,\n",
    "                              scoring=\"neg_root_mean_squared_error\", cv=10)\n",
    "```"
   ]
  },
  {
   "cell_type": "markdown",
   "metadata": {
    "colab_type": "text",
    "id": "VrQwS5F9RhiM",
    "slideshow": {
     "slide_type": ""
    }
   },
   "source": [
    "- `scoring=\"neg_mean_squared_error\"` 옵션\n",
    "    - 훈련중인 모델의 성능을 측정하는 **효용함수** 지정\n",
    "    - 모델의 성능 측정값은 높을 수록 좋은 성능으로 평가되기에 회귀 모델의 경우 일반적으로 RMSE의 음숫값을 사용함."
   ]
  },
  {
   "cell_type": "markdown",
   "metadata": {
    "slideshow": {
     "slide_type": "slide"
    }
   },
   "source": [
    "### 모델별 교차 검증 결과"
   ]
  },
  {
   "cell_type": "markdown",
   "metadata": {
    "colab_type": "text",
    "id": "VrQwS5F9RhiM",
    "slideshow": {
     "slide_type": ""
    }
   },
   "source": [
    "* 결정트리 회귀 모델 교차 검증의 RMSE: 평균적으로 약 66868 정도"
   ]
  },
  {
   "cell_type": "markdown",
   "metadata": {
    "colab_type": "text",
    "id": "VrQwS5F9RhiM",
    "slideshow": {
     "slide_type": ""
    }
   },
   "source": [
    "* 선형회귀 모델 교차 검증의 RMSE: 평균적으로 약 69858 정도로 결정트리 회귀 모델과 비슷."
   ]
  },
  {
   "cell_type": "markdown",
   "metadata": {
    "colab_type": "text",
    "id": "VrQwS5F9RhiM",
    "slideshow": {
     "slide_type": ""
    }
   },
   "source": [
    "* 랜덤 포레스트 회귀 모델 교차 검증의 RMSE: 평균적으로 약 47019 정도로 가장 좋음."
   ]
  },
  {
   "cell_type": "markdown",
   "metadata": {
    "colab_type": "text",
    "id": "NvymKM5gVYcN",
    "slideshow": {
     "slide_type": "slide"
    }
   },
   "source": [
    "## 2.8. 모델 미세 조정"
   ]
  },
  {
   "cell_type": "markdown",
   "metadata": {
    "colab_type": "text",
    "id": "NvymKM5gVYcN",
    "slideshow": {
     "slide_type": ""
    }
   },
   "source": [
    "* 가장 좋은 성능의 모델을 선정한 후에 모델의 세부 설정(하이퍼파라미터)을 조정해서\n",
    "    모델의 성능을 보다 끌어 올릴 수 있음"
   ]
  },
  {
   "cell_type": "markdown",
   "metadata": {
    "colab_type": "text",
    "id": "NvymKM5gVYcN",
    "slideshow": {
     "slide_type": ""
    }
   },
   "source": [
    "- 모델 미세 조정을 위한 세 가지 방식\n",
    "  - 그리드 탐색\n",
    "  - 랜덤 탐색\n",
    "  - 앙상블 방법"
   ]
  },
  {
   "cell_type": "markdown",
   "metadata": {
    "slideshow": {
     "slide_type": "slide"
    }
   },
   "source": [
    "### 하이퍼파라미터 vs. 파라미터"
   ]
  },
  {
   "cell_type": "markdown",
   "metadata": {},
   "source": [
    "- 사이킷런 클래스의 **하이퍼파라미터**<font size='2'>hyperparameter</font>: \n",
    "    해당 클래스의 객체를 생성할 때 생성자 메서드의 인자로 사용되는 값들."
   ]
  },
  {
   "cell_type": "markdown",
   "metadata": {},
   "source": [
    "- **파라미터**<font size='2'>parameter</font>: `fit()` 메서드가 데이터셋으로부터 추출한 정보에 해당하는 값들."
   ]
  },
  {
   "cell_type": "markdown",
   "metadata": {},
   "source": [
    "- 사이킷런의 모든 클래스는 적절한 하이퍼파라미터로 초기화되어 있으며, \n",
    "    데이터 변환과 값 예측에 필요한 모든 파라미터를 효율적으로 관리함."
   ]
  },
  {
   "cell_type": "markdown",
   "metadata": {
    "colab_type": "text",
    "id": "gq27apRGVttK",
    "slideshow": {
     "slide_type": "slide"
    }
   },
   "source": [
    "### 2.8.1. 그리드 탐색"
   ]
  },
  {
   "cell_type": "markdown",
   "metadata": {
    "colab_type": "text",
    "id": "gq27apRGVttK",
    "slideshow": {
     "slide_type": ""
    }
   },
   "source": [
    "* 지정한 하이퍼파라미터의 모든 조합을 교차검증하여 최적의 모델을 생성하는 하이퍼파라미터 조합 찾기"
   ]
  },
  {
   "cell_type": "markdown",
   "metadata": {
    "colab_type": "text",
    "id": "gq27apRGVttK",
    "slideshow": {
     "slide_type": ""
    }
   },
   "source": [
    "* 사이킷런의 `GridSearchCV` 활용"
   ]
  },
  {
   "cell_type": "markdown",
   "metadata": {
    "colab_type": "text",
    "id": "yeUooJ3-WAff",
    "slideshow": {
     "slide_type": "slide"
    }
   },
   "source": [
    "### 예제: 랜덤 포레스트와 그리드 탐색"
   ]
  },
  {
   "cell_type": "markdown",
   "metadata": {
    "colab_type": "text",
    "id": "yeUooJ3-WAff",
    "slideshow": {
     "slide_type": ""
    }
   },
   "source": [
    "* 총 (3x3 + 2x3 = 15) 가지의 경우 확인\n",
    "        \n",
    "        (군집수 3 가지) * (최대특성수 3 가지) + (군집수 2 가지) * (최대특성수 3 가지)\n",
    "\n",
    "* 3-겹 교차 검증을 진행하기에 총 (15x3 = 45)번 모델 훈련 진행."
   ]
  },
  {
   "cell_type": "markdown",
   "metadata": {
    "colab_type": "text",
    "id": "yeUooJ3-WAff",
    "slideshow": {
     "slide_type": ""
    }
   },
   "source": [
    "```python\n",
    "from sklearn.model_selection import GridSearchCV\n",
    "\n",
    "full_pipeline = Pipeline([\n",
    "    (\"preprocessing\", preprocessing),\n",
    "    (\"random_forest\", RandomForestRegressor(random_state=42)),\n",
    "])\n",
    "\n",
    "param_grid = [\n",
    "    {'preprocessing__geo__n_clusters': [5, 8, 10],\n",
    "     'random_forest__max_features': [4, 6, 8]},\n",
    "    {'preprocessing__geo__n_clusters': [10, 15],\n",
    "     'random_forest__max_features': [6, 8, 10]},\n",
    "]\n",
    "\n",
    "grid_search = GridSearchCV(full_pipeline, param_grid, cv=3,\n",
    "                           scoring='neg_root_mean_squared_error')\n",
    "\n",
    "grid_search.fit(housing, housing_labels)\n",
    "```"
   ]
  },
  {
   "cell_type": "markdown",
   "metadata": {
    "slideshow": {
     "slide_type": "slide"
    }
   },
   "source": [
    "### 그리드 탐색 결과 "
   ]
  },
  {
   "cell_type": "markdown",
   "metadata": {},
   "source": [
    "* 최고 성능의 랜덤 포레스트 하이퍼파라미터가 다음과 같음. \n",
    "    - `preprocessing__geo__n_clusters`: 15\n",
    "    - `random_forest__max_features`: 6"
   ]
  },
  {
   "cell_type": "markdown",
   "metadata": {},
   "source": [
    "- 최고 성능의 랜덤 포레스트 회귀 모델에 대한 교차 검증의 RMSE는 44042 정도로 이전보다 좀 더 좋아짐."
   ]
  },
  {
   "cell_type": "markdown",
   "metadata": {
    "colab": {
     "base_uri": "https://localhost:8080/",
     "height": 386
    },
    "colab_type": "code",
    "id": "ifogOw83VT3Y",
    "outputId": "8cce903f-83cc-45f8-b720-4ee44f3c2a16",
    "slideshow": {
     "slide_type": "slide"
    }
   },
   "source": [
    "### 2.8.2. 랜덤 탐색"
   ]
  },
  {
   "cell_type": "markdown",
   "metadata": {
    "colab": {
     "base_uri": "https://localhost:8080/",
     "height": 386
    },
    "colab_type": "code",
    "id": "ifogOw83VT3Y",
    "outputId": "8cce903f-83cc-45f8-b720-4ee44f3c2a16",
    "slideshow": {
     "slide_type": ""
    }
   },
   "source": [
    "* 그리드 탐색은 적은 수의 조합을 실험해볼 때 유용"
   ]
  },
  {
   "cell_type": "markdown",
   "metadata": {
    "colab": {
     "base_uri": "https://localhost:8080/",
     "height": 386
    },
    "colab_type": "code",
    "id": "ifogOw83VT3Y",
    "outputId": "8cce903f-83cc-45f8-b720-4ee44f3c2a16",
    "slideshow": {
     "slide_type": ""
    }
   },
   "source": [
    "* 조합의 수가 커지거나, 설정된 탐색 공간이 커지면 랜덤 탐색이 보다 효율적. \n",
    "  특히, 설정값이 부동소수점처럼 연속적인 값을 다루는 경우 랜덤 탐색이 유용함."
   ]
  },
  {
   "cell_type": "markdown",
   "metadata": {
    "colab": {
     "base_uri": "https://localhost:8080/",
     "height": 386
    },
    "colab_type": "code",
    "id": "ifogOw83VT3Y",
    "outputId": "8cce903f-83cc-45f8-b720-4ee44f3c2a16",
    "slideshow": {
     "slide_type": ""
    }
   },
   "source": [
    "* 사이킷런의 `RandomizedSearchCV` 추정기가 랜덤 탐색을 지원"
   ]
  },
  {
   "cell_type": "markdown",
   "metadata": {
    "colab_type": "text",
    "id": "yeUooJ3-WAff",
    "slideshow": {
     "slide_type": "slide"
    }
   },
   "source": [
    "### 예제: 랜덤 포레스트와 랜덤 탐색"
   ]
  },
  {
   "cell_type": "markdown",
   "metadata": {
    "colab_type": "text",
    "id": "ckdk6v7ahB_F",
    "slideshow": {
     "slide_type": ""
    }
   },
   "source": [
    "```python\n",
    "from sklearn.model_selection import RandomizedSearchCV\n",
    "from scipy.stats import randint\n",
    "\n",
    "param_distribs = {'preprocessing__geo__n_clusters': randint(low=3, high=50),\n",
    "                  'random_forest__max_features': randint(low=2, high=20)}\n",
    "\n",
    "rnd_search = RandomizedSearchCV(\n",
    "    full_pipeline, param_distributions=param_distribs, n_iter=10, cv=3,\n",
    "    scoring='neg_root_mean_squared_error', random_state=42)\n",
    "\n",
    "rnd_search.fit(housing, housing_labels)\n",
    "```"
   ]
  },
  {
   "cell_type": "markdown",
   "metadata": {
    "colab_type": "text",
    "id": "ckdk6v7ahB_F",
    "slideshow": {
     "slide_type": "fragment"
    }
   },
   "source": [
    "* `n_iter=10`: 랜덤 탐색이 총 10회 진행\n",
    "    * `n_clusters`와 `max_features` 값을 지정된 구간에서 무작위 선택"
   ]
  },
  {
   "cell_type": "markdown",
   "metadata": {
    "colab_type": "text",
    "id": "ckdk6v7ahB_F",
    "slideshow": {
     "slide_type": ""
    }
   },
   "source": [
    "* `cv=3`: 3-겹 교차검증. 따라서 랜덤 포레스트 학습이 (10x3=30)번 이루어짐."
   ]
  },
  {
   "cell_type": "markdown",
   "metadata": {
    "slideshow": {
     "slide_type": "slide"
    }
   },
   "source": [
    "### 랜덤 탐색 결과 "
   ]
  },
  {
   "cell_type": "markdown",
   "metadata": {},
   "source": [
    "* 최고 성능의 랜덤 포레스트 하이퍼파라미터가 다음과 같음. \n",
    "    - `n_estimators`: 45\n",
    "    - `max_features`: 9"
   ]
  },
  {
   "cell_type": "markdown",
   "metadata": {},
   "source": [
    "* 최고 성능의 랜덤 포레스트에 대한 교차검증 RMSE: 41995"
   ]
  },
  {
   "cell_type": "markdown",
   "metadata": {
    "colab_type": "text",
    "id": "8LYDui0ElCLL",
    "slideshow": {
     "slide_type": "slide"
    }
   },
   "source": [
    "### 2.8.3. 앙상블 학습"
   ]
  },
  {
   "cell_type": "markdown",
   "metadata": {
    "colab_type": "text",
    "id": "8LYDui0ElCLL",
    "slideshow": {
     "slide_type": ""
    }
   },
   "source": [
    "* 결정 트리 모델 하나보다 랜덤 포레스트처럼 여러 모델로 이루어진 모델이 보다 좋은 성능을 낼 수 있음."
   ]
  },
  {
   "cell_type": "markdown",
   "metadata": {
    "colab_type": "text",
    "id": "8LYDui0ElCLL",
    "slideshow": {
     "slide_type": ""
    }
   },
   "source": [
    "* 또한 최고 성능을 보이는 서로 다른 개별 모델을 조합하면 보다 좋은 성능을 얻을 수 있음"
   ]
  },
  {
   "cell_type": "markdown",
   "metadata": {
    "colab_type": "text",
    "id": "8LYDui0ElCLL",
    "slideshow": {
     "slide_type": ""
    }
   },
   "source": [
    "* [앙상블 학습과 랜덤 포레스트](https://codingalzi.github.io/handson-ml3/ensemble_learning_random_forests.html)에서 자세히 다룸"
   ]
  },
  {
   "cell_type": "markdown",
   "metadata": {
    "colab_type": "text",
    "id": "35rznSX-lVzd",
    "slideshow": {
     "slide_type": "slide"
    }
   },
   "source": [
    "### 2.8.4. 최적 모델 활용"
   ]
  },
  {
   "cell_type": "markdown",
   "metadata": {
    "colab_type": "text",
    "id": "35rznSX-lVzd",
    "slideshow": {
     "slide_type": ""
    }
   },
   "source": [
    "* 그리드 탐색과 랜덤 탐색 등을 통해 얻어진 최적의 모델을 분석해서 문제에 대한 좋은 통찰을 얻을 수 있음"
   ]
  },
  {
   "cell_type": "markdown",
   "metadata": {
    "colab_type": "text",
    "id": "35rznSX-lVzd",
    "slideshow": {
     "slide_type": ""
    }
   },
   "source": [
    "* 예를 들어, 최적의 랜덤 포레스트 모델에서 사용된 특성들의 중요도를 확인하여 일부 특성을 제외할 수 있음.\n",
    "    * 중위소득(`log__median_income`)이 가장 중요\n",
    "    * 해안 근접도 특성 중에선 `INLAND` 특성이 중요"
   ]
  },
  {
   "cell_type": "markdown",
   "metadata": {
    "slideshow": {
     "slide_type": "slide"
    }
   },
   "source": [
    "### 특성 중요도"
   ]
  },
  {
   "cell_type": "markdown",
   "metadata": {
    "slideshow": {
     "slide_type": ""
    }
   },
   "source": [
    "```python\n",
    "# 최적 모델\n",
    "final_model = rnd_search.best_estimator_                                 \n",
    "\n",
    "# 특성 중요도\n",
    "feature_importances = final_model[\"random_forest\"].feature_importances_  \n",
    "\n",
    "# 특성 중요도 내림차순 정렬\n",
    "sorted(zip(feature_importances,\n",
    "           final_model[\"preprocessing\"].get_feature_names_out()),\n",
    "           reverse=True)\n",
    "```"
   ]
  },
  {
   "cell_type": "markdown",
   "metadata": {
    "slideshow": {
     "slide_type": ""
    }
   },
   "source": [
    "```python\n",
    "[(0.18694559869103852, 'log__median_income'),\n",
    " (0.0748194905715524, 'cat__ocean_proximity_INLAND'),\n",
    " (0.06926417748515576, 'bedrooms_ratio__bedrooms_ratio'),\n",
    " (0.05446998753775219, 'rooms_per_house__rooms_per_house'),\n",
    " (0.05262301809680712, 'people_per_house__people_per_house'),\n",
    " (0.03819415873915732, 'geo__Cluster 0 similarity'),\n",
    " [...]\n",
    " (0.00015061247730531558, 'cat__ocean_proximity_NEAR BAY'),\n",
    " (7.301686597099842e-05, 'cat__ocean_proximity_ISLAND')]\n",
    "```"
   ]
  },
  {
   "cell_type": "markdown",
   "metadata": {
    "colab_type": "text",
    "id": "Pj9Gf8jfSj1j",
    "slideshow": {
     "slide_type": "slide"
    }
   },
   "source": [
    "### 테스트셋 활용 최종 평가"
   ]
  },
  {
   "cell_type": "markdown",
   "metadata": {
    "colab_type": "text",
    "id": "Pj9Gf8jfSj1j",
    "slideshow": {
     "slide_type": ""
    }
   },
   "source": [
    "- 최고 성능 모델을 테스트셋에 적용하여 최종 평가"
   ]
  },
  {
   "cell_type": "markdown",
   "metadata": {},
   "source": [
    "```python\n",
    "X_test = strat_test_set.drop(\"median_house_value\", axis=1)\n",
    "y_test = strat_test_set[\"median_house_value\"].copy()\n",
    "\n",
    "final_predictions = final_model.predict(X_test)\n",
    "\n",
    "final_rmse = mean_squared_error(y_test, final_predictions, squared=False)\n",
    "```"
   ]
  },
  {
   "cell_type": "markdown",
   "metadata": {
    "slideshow": {
     "slide_type": "slide"
    }
   },
   "source": [
    "## 2.9. 최적 모델 저장 및 활용"
   ]
  },
  {
   "cell_type": "markdown",
   "metadata": {},
   "source": [
    "- 긴 훈련으로 찾은 최고 성능의 모델을 저장하면 언제든 재 활용 가능"
   ]
  },
  {
   "cell_type": "markdown",
   "metadata": {},
   "source": [
    "- 완성된 모델 저장"
   ]
  },
  {
   "cell_type": "markdown",
   "metadata": {},
   "source": [
    "```python\n",
    "joblib.dump(final_model, \"my_california_housing_model.pkl\")\n",
    "```"
   ]
  },
  {
   "cell_type": "markdown",
   "metadata": {},
   "source": [
    "- 저장된 모델 불러오기"
   ]
  },
  {
   "cell_type": "markdown",
   "metadata": {},
   "source": [
    "```python\n",
    "final_model_reloaded = joblib.load(\"my_california_housing_model.pkl\")\n",
    "final_model_reloaded.predict(X_test)\n",
    "```"
   ]
  }
 ],
 "metadata": {
  "celltoolbar": "Slideshow",
  "colab": {
   "collapsed_sections": [],
   "name": "핸즈온머신러닝_2장.ipynb",
   "provenance": []
  },
  "kernelspec": {
   "display_name": "Python 3 (ipykernel)",
   "language": "python",
   "name": "python3"
  },
  "language_info": {
   "codemirror_mode": {
    "name": "ipython",
    "version": 3
   },
   "file_extension": ".py",
   "mimetype": "text/x-python",
   "name": "python",
   "nbconvert_exporter": "python",
   "pygments_lexer": "ipython3",
   "version": "3.11.4"
  }
 },
 "nbformat": 4,
 "nbformat_minor": 1
}
